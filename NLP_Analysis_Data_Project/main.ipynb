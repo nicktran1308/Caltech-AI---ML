{
 "cells": [
  {
   "cell_type": "markdown",
   "metadata": {},
   "source": [
    "# Topic Analysis of Review Data"
   ]
  },
  {
   "cell_type": "code",
   "execution_count": 148,
   "metadata": {},
   "outputs": [],
   "source": [
    "import pandas as pd"
   ]
  },
  {
   "cell_type": "code",
   "execution_count": 149,
   "metadata": {},
   "outputs": [],
   "source": [
    "import warnings\n",
    "warnings.filterwarnings('ignore', category=DeprecationWarning)"
   ]
  },
  {
   "cell_type": "code",
   "execution_count": 150,
   "metadata": {},
   "outputs": [],
   "source": [
    "file_path = r'C:\\Users\\CS\\Documents\\Caltech AIML\\NLP_Analysis_Data_Project\\K8 Reviews v0.2.csv'\n",
    "df = pd.read_csv(file_path)"
   ]
  },
  {
   "cell_type": "code",
   "execution_count": 151,
   "metadata": {},
   "outputs": [
    {
     "name": "stdout",
     "output_type": "stream",
     "text": [
      "   sentiment                                             review\n",
      "0          1             Good but need updates and improvements\n",
      "1          0  Worst mobile i have bought ever, Battery is dr...\n",
      "2          1  when I will get my 10% cash back.... its alrea...\n",
      "3          1                                               Good\n",
      "4          0  The worst phone everThey have changed the last...\n"
     ]
    }
   ],
   "source": [
    "print(df.head())"
   ]
  },
  {
   "cell_type": "code",
   "execution_count": 152,
   "metadata": {},
   "outputs": [
    {
     "data": {
      "text/plain": [
       "(14675, 2)"
      ]
     },
     "execution_count": 152,
     "metadata": {},
     "output_type": "execute_result"
    }
   ],
   "source": [
    "df.shape"
   ]
  },
  {
   "cell_type": "code",
   "execution_count": 153,
   "metadata": {},
   "outputs": [
    {
     "data": {
      "text/plain": [
       "sentiment    0\n",
       "review       0\n",
       "dtype: int64"
      ]
     },
     "execution_count": 153,
     "metadata": {},
     "output_type": "execute_result"
    }
   ],
   "source": [
    "df.isna().sum()"
   ]
  },
  {
   "cell_type": "markdown",
   "metadata": {},
   "source": [
    " ## 2. Normalize casings for the review text and extract the text into a list for easier manipulation."
   ]
  },
  {
   "cell_type": "code",
   "execution_count": 154,
   "metadata": {},
   "outputs": [
    {
     "data": {
      "text/html": [
       "<div>\n",
       "<style scoped>\n",
       "    .dataframe tbody tr th:only-of-type {\n",
       "        vertical-align: middle;\n",
       "    }\n",
       "\n",
       "    .dataframe tbody tr th {\n",
       "        vertical-align: top;\n",
       "    }\n",
       "\n",
       "    .dataframe thead th {\n",
       "        text-align: right;\n",
       "    }\n",
       "</style>\n",
       "<table border=\"1\" class=\"dataframe\">\n",
       "  <thead>\n",
       "    <tr style=\"text-align: right;\">\n",
       "      <th></th>\n",
       "      <th>sentiment</th>\n",
       "      <th>review</th>\n",
       "      <th>cleaned_review</th>\n",
       "    </tr>\n",
       "  </thead>\n",
       "  <tbody>\n",
       "    <tr>\n",
       "      <th>0</th>\n",
       "      <td>1</td>\n",
       "      <td>Good but need updates and improvements</td>\n",
       "      <td>good but need updates and improvements</td>\n",
       "    </tr>\n",
       "    <tr>\n",
       "      <th>1</th>\n",
       "      <td>0</td>\n",
       "      <td>Worst mobile i have bought ever, Battery is dr...</td>\n",
       "      <td>worst mobile i have bought ever, battery is dr...</td>\n",
       "    </tr>\n",
       "    <tr>\n",
       "      <th>2</th>\n",
       "      <td>1</td>\n",
       "      <td>when I will get my 10% cash back.... its alrea...</td>\n",
       "      <td>when i will get my 10% cash back.... its alrea...</td>\n",
       "    </tr>\n",
       "    <tr>\n",
       "      <th>3</th>\n",
       "      <td>1</td>\n",
       "      <td>Good</td>\n",
       "      <td>good</td>\n",
       "    </tr>\n",
       "    <tr>\n",
       "      <th>4</th>\n",
       "      <td>0</td>\n",
       "      <td>The worst phone everThey have changed the last...</td>\n",
       "      <td>the worst phone everthey have changed the last...</td>\n",
       "    </tr>\n",
       "  </tbody>\n",
       "</table>\n",
       "</div>"
      ],
      "text/plain": [
       "   sentiment                                             review  \\\n",
       "0          1             Good but need updates and improvements   \n",
       "1          0  Worst mobile i have bought ever, Battery is dr...   \n",
       "2          1  when I will get my 10% cash back.... its alrea...   \n",
       "3          1                                               Good   \n",
       "4          0  The worst phone everThey have changed the last...   \n",
       "\n",
       "                                      cleaned_review  \n",
       "0             good but need updates and improvements  \n",
       "1  worst mobile i have bought ever, battery is dr...  \n",
       "2  when i will get my 10% cash back.... its alrea...  \n",
       "3                                               good  \n",
       "4  the worst phone everthey have changed the last...  "
      ]
     },
     "execution_count": 154,
     "metadata": {},
     "output_type": "execute_result"
    }
   ],
   "source": [
    "df['cleaned_review'] = df['review'].apply(lambda x: str(x).lower())\n",
    "df.head()"
   ]
  },
  {
   "cell_type": "markdown",
   "metadata": {},
   "source": [
    "## 3.Tokenize the reviews using NLTKs word_tokenize function"
   ]
  },
  {
   "cell_type": "code",
   "execution_count": 155,
   "metadata": {},
   "outputs": [
    {
     "data": {
      "text/html": [
       "<div>\n",
       "<style scoped>\n",
       "    .dataframe tbody tr th:only-of-type {\n",
       "        vertical-align: middle;\n",
       "    }\n",
       "\n",
       "    .dataframe tbody tr th {\n",
       "        vertical-align: top;\n",
       "    }\n",
       "\n",
       "    .dataframe thead th {\n",
       "        text-align: right;\n",
       "    }\n",
       "</style>\n",
       "<table border=\"1\" class=\"dataframe\">\n",
       "  <thead>\n",
       "    <tr style=\"text-align: right;\">\n",
       "      <th></th>\n",
       "      <th>sentiment</th>\n",
       "      <th>review</th>\n",
       "      <th>cleaned_review</th>\n",
       "    </tr>\n",
       "  </thead>\n",
       "  <tbody>\n",
       "    <tr>\n",
       "      <th>0</th>\n",
       "      <td>1</td>\n",
       "      <td>Good but need updates and improvements</td>\n",
       "      <td>good but need updates and improvements</td>\n",
       "    </tr>\n",
       "    <tr>\n",
       "      <th>1</th>\n",
       "      <td>0</td>\n",
       "      <td>Worst mobile i have bought ever, Battery is dr...</td>\n",
       "      <td>worst mobile i have bought ever battery is dra...</td>\n",
       "    </tr>\n",
       "    <tr>\n",
       "      <th>2</th>\n",
       "      <td>1</td>\n",
       "      <td>when I will get my 10% cash back.... its alrea...</td>\n",
       "      <td>when i will get my cash back its already january</td>\n",
       "    </tr>\n",
       "    <tr>\n",
       "      <th>3</th>\n",
       "      <td>1</td>\n",
       "      <td>Good</td>\n",
       "      <td>good</td>\n",
       "    </tr>\n",
       "    <tr>\n",
       "      <th>4</th>\n",
       "      <td>0</td>\n",
       "      <td>The worst phone everThey have changed the last...</td>\n",
       "      <td>the worst phone everthey have changed the last...</td>\n",
       "    </tr>\n",
       "  </tbody>\n",
       "</table>\n",
       "</div>"
      ],
      "text/plain": [
       "   sentiment                                             review  \\\n",
       "0          1             Good but need updates and improvements   \n",
       "1          0  Worst mobile i have bought ever, Battery is dr...   \n",
       "2          1  when I will get my 10% cash back.... its alrea...   \n",
       "3          1                                               Good   \n",
       "4          0  The worst phone everThey have changed the last...   \n",
       "\n",
       "                                      cleaned_review  \n",
       "0             good but need updates and improvements  \n",
       "1  worst mobile i have bought ever battery is dra...  \n",
       "2  when i will get my cash back its already january   \n",
       "3                                               good  \n",
       "4  the worst phone everthey have changed the last...  "
      ]
     },
     "execution_count": 155,
     "metadata": {},
     "output_type": "execute_result"
    }
   ],
   "source": [
    "df['cleaned_review'] = df['cleaned_review'].str.replace(r'[^a-zA-Z\\s]', ' ', regex=True).str.replace(r'\\s{2,}', ' ', regex=True)\n",
    "df.head()\n"
   ]
  },
  {
   "cell_type": "code",
   "execution_count": 156,
   "metadata": {},
   "outputs": [
    {
     "name": "stderr",
     "output_type": "stream",
     "text": [
      "[nltk_data] Downloading package punkt to\n",
      "[nltk_data]     C:\\Users\\CS\\AppData\\Roaming\\nltk_data...\n",
      "[nltk_data]   Package punkt is already up-to-date!\n"
     ]
    },
    {
     "data": {
      "text/html": [
       "<div>\n",
       "<style scoped>\n",
       "    .dataframe tbody tr th:only-of-type {\n",
       "        vertical-align: middle;\n",
       "    }\n",
       "\n",
       "    .dataframe tbody tr th {\n",
       "        vertical-align: top;\n",
       "    }\n",
       "\n",
       "    .dataframe thead th {\n",
       "        text-align: right;\n",
       "    }\n",
       "</style>\n",
       "<table border=\"1\" class=\"dataframe\">\n",
       "  <thead>\n",
       "    <tr style=\"text-align: right;\">\n",
       "      <th></th>\n",
       "      <th>sentiment</th>\n",
       "      <th>review</th>\n",
       "      <th>cleaned_review</th>\n",
       "    </tr>\n",
       "  </thead>\n",
       "  <tbody>\n",
       "    <tr>\n",
       "      <th>0</th>\n",
       "      <td>1</td>\n",
       "      <td>Good but need updates and improvements</td>\n",
       "      <td>[good, but, need, updates, and, improvements]</td>\n",
       "    </tr>\n",
       "    <tr>\n",
       "      <th>1</th>\n",
       "      <td>0</td>\n",
       "      <td>Worst mobile i have bought ever, Battery is dr...</td>\n",
       "      <td>[worst, mobile, i, have, bought, ever, battery...</td>\n",
       "    </tr>\n",
       "    <tr>\n",
       "      <th>2</th>\n",
       "      <td>1</td>\n",
       "      <td>when I will get my 10% cash back.... its alrea...</td>\n",
       "      <td>[when, i, will, get, my, cash, back, its, alre...</td>\n",
       "    </tr>\n",
       "    <tr>\n",
       "      <th>3</th>\n",
       "      <td>1</td>\n",
       "      <td>Good</td>\n",
       "      <td>[good]</td>\n",
       "    </tr>\n",
       "    <tr>\n",
       "      <th>4</th>\n",
       "      <td>0</td>\n",
       "      <td>The worst phone everThey have changed the last...</td>\n",
       "      <td>[the, worst, phone, everthey, have, changed, t...</td>\n",
       "    </tr>\n",
       "  </tbody>\n",
       "</table>\n",
       "</div>"
      ],
      "text/plain": [
       "   sentiment                                             review  \\\n",
       "0          1             Good but need updates and improvements   \n",
       "1          0  Worst mobile i have bought ever, Battery is dr...   \n",
       "2          1  when I will get my 10% cash back.... its alrea...   \n",
       "3          1                                               Good   \n",
       "4          0  The worst phone everThey have changed the last...   \n",
       "\n",
       "                                      cleaned_review  \n",
       "0      [good, but, need, updates, and, improvements]  \n",
       "1  [worst, mobile, i, have, bought, ever, battery...  \n",
       "2  [when, i, will, get, my, cash, back, its, alre...  \n",
       "3                                             [good]  \n",
       "4  [the, worst, phone, everthey, have, changed, t...  "
      ]
     },
     "execution_count": 156,
     "metadata": {},
     "output_type": "execute_result"
    }
   ],
   "source": [
    "from nltk.tokenize import word_tokenize\n",
    "import nltk\n",
    "nltk.download('punkt')\n",
    "\n",
    "df['cleaned_review'] = df['cleaned_review'].apply(lambda x: word_tokenize(x))\n",
    "df.head()"
   ]
  },
  {
   "cell_type": "markdown",
   "metadata": {},
   "source": [
    "## 4.Perform parts-of-speech tagging on each sentence using the NLTK POS tagger"
   ]
  },
  {
   "cell_type": "code",
   "execution_count": 157,
   "metadata": {},
   "outputs": [
    {
     "name": "stderr",
     "output_type": "stream",
     "text": [
      "[nltk_data] Downloading package averaged_perceptron_tagger to\n",
      "[nltk_data]     C:\\Users\\CS\\AppData\\Roaming\\nltk_data...\n",
      "[nltk_data]   Package averaged_perceptron_tagger is already up-to-\n",
      "[nltk_data]       date!\n"
     ]
    },
    {
     "data": {
      "text/plain": [
       "True"
      ]
     },
     "execution_count": 157,
     "metadata": {},
     "output_type": "execute_result"
    }
   ],
   "source": [
    "from nltk import pos_tag\n",
    "import nltk\n",
    "nltk.download('averaged_perceptron_tagger')\n"
   ]
  },
  {
   "cell_type": "code",
   "execution_count": 158,
   "metadata": {},
   "outputs": [
    {
     "data": {
      "text/html": [
       "<div>\n",
       "<style scoped>\n",
       "    .dataframe tbody tr th:only-of-type {\n",
       "        vertical-align: middle;\n",
       "    }\n",
       "\n",
       "    .dataframe tbody tr th {\n",
       "        vertical-align: top;\n",
       "    }\n",
       "\n",
       "    .dataframe thead th {\n",
       "        text-align: right;\n",
       "    }\n",
       "</style>\n",
       "<table border=\"1\" class=\"dataframe\">\n",
       "  <thead>\n",
       "    <tr style=\"text-align: right;\">\n",
       "      <th></th>\n",
       "      <th>sentiment</th>\n",
       "      <th>review</th>\n",
       "      <th>cleaned_review</th>\n",
       "      <th>pos_tagged_review</th>\n",
       "    </tr>\n",
       "  </thead>\n",
       "  <tbody>\n",
       "    <tr>\n",
       "      <th>0</th>\n",
       "      <td>1</td>\n",
       "      <td>Good but need updates and improvements</td>\n",
       "      <td>[good, but, need, updates, and, improvements]</td>\n",
       "      <td>[(good, JJ), (but, CC), (need, VBP), (updates,...</td>\n",
       "    </tr>\n",
       "    <tr>\n",
       "      <th>1</th>\n",
       "      <td>0</td>\n",
       "      <td>Worst mobile i have bought ever, Battery is dr...</td>\n",
       "      <td>[worst, mobile, i, have, bought, ever, battery...</td>\n",
       "      <td>[(worst, JJS), (mobile, NN), (i, NN), (have, V...</td>\n",
       "    </tr>\n",
       "    <tr>\n",
       "      <th>2</th>\n",
       "      <td>1</td>\n",
       "      <td>when I will get my 10% cash back.... its alrea...</td>\n",
       "      <td>[when, i, will, get, my, cash, back, its, alre...</td>\n",
       "      <td>[(when, WRB), (i, NN), (will, MD), (get, VB), ...</td>\n",
       "    </tr>\n",
       "    <tr>\n",
       "      <th>3</th>\n",
       "      <td>1</td>\n",
       "      <td>Good</td>\n",
       "      <td>[good]</td>\n",
       "      <td>[(good, JJ)]</td>\n",
       "    </tr>\n",
       "    <tr>\n",
       "      <th>4</th>\n",
       "      <td>0</td>\n",
       "      <td>The worst phone everThey have changed the last...</td>\n",
       "      <td>[the, worst, phone, everthey, have, changed, t...</td>\n",
       "      <td>[(the, DT), (worst, JJS), (phone, NN), (everth...</td>\n",
       "    </tr>\n",
       "  </tbody>\n",
       "</table>\n",
       "</div>"
      ],
      "text/plain": [
       "   sentiment                                             review  \\\n",
       "0          1             Good but need updates and improvements   \n",
       "1          0  Worst mobile i have bought ever, Battery is dr...   \n",
       "2          1  when I will get my 10% cash back.... its alrea...   \n",
       "3          1                                               Good   \n",
       "4          0  The worst phone everThey have changed the last...   \n",
       "\n",
       "                                      cleaned_review  \\\n",
       "0      [good, but, need, updates, and, improvements]   \n",
       "1  [worst, mobile, i, have, bought, ever, battery...   \n",
       "2  [when, i, will, get, my, cash, back, its, alre...   \n",
       "3                                             [good]   \n",
       "4  [the, worst, phone, everthey, have, changed, t...   \n",
       "\n",
       "                                   pos_tagged_review  \n",
       "0  [(good, JJ), (but, CC), (need, VBP), (updates,...  \n",
       "1  [(worst, JJS), (mobile, NN), (i, NN), (have, V...  \n",
       "2  [(when, WRB), (i, NN), (will, MD), (get, VB), ...  \n",
       "3                                       [(good, JJ)]  \n",
       "4  [(the, DT), (worst, JJS), (phone, NN), (everth...  "
      ]
     },
     "execution_count": 158,
     "metadata": {},
     "output_type": "execute_result"
    }
   ],
   "source": [
    "df['pos_tagged_review'] = df['cleaned_review'].apply(lambda x: pos_tag(x))\n",
    "\n",
    "# Display the DataFrame to see the results\n",
    "df.head()"
   ]
  },
  {
   "cell_type": "code",
   "execution_count": 159,
   "metadata": {},
   "outputs": [
    {
     "data": {
      "text/html": [
       "<div>\n",
       "<style scoped>\n",
       "    .dataframe tbody tr th:only-of-type {\n",
       "        vertical-align: middle;\n",
       "    }\n",
       "\n",
       "    .dataframe tbody tr th {\n",
       "        vertical-align: top;\n",
       "    }\n",
       "\n",
       "    .dataframe thead th {\n",
       "        text-align: right;\n",
       "    }\n",
       "</style>\n",
       "<table border=\"1\" class=\"dataframe\">\n",
       "  <thead>\n",
       "    <tr style=\"text-align: right;\">\n",
       "      <th></th>\n",
       "      <th>sentiment</th>\n",
       "      <th>review</th>\n",
       "      <th>cleaned_review</th>\n",
       "      <th>pos_tagged_review</th>\n",
       "      <th>nouns_only_review</th>\n",
       "    </tr>\n",
       "  </thead>\n",
       "  <tbody>\n",
       "    <tr>\n",
       "      <th>0</th>\n",
       "      <td>1</td>\n",
       "      <td>Good but need updates and improvements</td>\n",
       "      <td>[good, but, need, updates, and, improvements]</td>\n",
       "      <td>[(good, JJ), (but, CC), (need, VBP), (updates,...</td>\n",
       "      <td>[updates, improvements]</td>\n",
       "    </tr>\n",
       "    <tr>\n",
       "      <th>1</th>\n",
       "      <td>0</td>\n",
       "      <td>Worst mobile i have bought ever, Battery is dr...</td>\n",
       "      <td>[worst, mobile, i, have, bought, ever, battery...</td>\n",
       "      <td>[(worst, JJS), (mobile, NN), (i, NN), (have, V...</td>\n",
       "      <td>[mobile, i, battery, hell, backup, hours, inte...</td>\n",
       "    </tr>\n",
       "    <tr>\n",
       "      <th>2</th>\n",
       "      <td>1</td>\n",
       "      <td>when I will get my 10% cash back.... its alrea...</td>\n",
       "      <td>[when, i, will, get, my, cash, back, its, alre...</td>\n",
       "      <td>[(when, WRB), (i, NN), (will, MD), (get, VB), ...</td>\n",
       "      <td>[i, cash]</td>\n",
       "    </tr>\n",
       "    <tr>\n",
       "      <th>3</th>\n",
       "      <td>1</td>\n",
       "      <td>Good</td>\n",
       "      <td>[good]</td>\n",
       "      <td>[(good, JJ)]</td>\n",
       "      <td>[]</td>\n",
       "    </tr>\n",
       "    <tr>\n",
       "      <th>4</th>\n",
       "      <td>0</td>\n",
       "      <td>The worst phone everThey have changed the last...</td>\n",
       "      <td>[the, worst, phone, everthey, have, changed, t...</td>\n",
       "      <td>[(the, DT), (worst, JJS), (phone, NN), (everth...</td>\n",
       "      <td>[phone, everthey, phone, problem, amazon, phon...</td>\n",
       "    </tr>\n",
       "  </tbody>\n",
       "</table>\n",
       "</div>"
      ],
      "text/plain": [
       "   sentiment                                             review  \\\n",
       "0          1             Good but need updates and improvements   \n",
       "1          0  Worst mobile i have bought ever, Battery is dr...   \n",
       "2          1  when I will get my 10% cash back.... its alrea...   \n",
       "3          1                                               Good   \n",
       "4          0  The worst phone everThey have changed the last...   \n",
       "\n",
       "                                      cleaned_review  \\\n",
       "0      [good, but, need, updates, and, improvements]   \n",
       "1  [worst, mobile, i, have, bought, ever, battery...   \n",
       "2  [when, i, will, get, my, cash, back, its, alre...   \n",
       "3                                             [good]   \n",
       "4  [the, worst, phone, everthey, have, changed, t...   \n",
       "\n",
       "                                   pos_tagged_review  \\\n",
       "0  [(good, JJ), (but, CC), (need, VBP), (updates,...   \n",
       "1  [(worst, JJS), (mobile, NN), (i, NN), (have, V...   \n",
       "2  [(when, WRB), (i, NN), (will, MD), (get, VB), ...   \n",
       "3                                       [(good, JJ)]   \n",
       "4  [(the, DT), (worst, JJS), (phone, NN), (everth...   \n",
       "\n",
       "                                   nouns_only_review  \n",
       "0                            [updates, improvements]  \n",
       "1  [mobile, i, battery, hell, backup, hours, inte...  \n",
       "2                                          [i, cash]  \n",
       "3                                                 []  \n",
       "4  [phone, everthey, phone, problem, amazon, phon...  "
      ]
     },
     "execution_count": 159,
     "metadata": {},
     "output_type": "execute_result"
    }
   ],
   "source": [
    "noun_tags = ['NN', 'NNS', 'NNP', 'NNPS']\n",
    "# Extract only the nouns from the POS-tagged reviews\n",
    "df['nouns_only_review'] = df['pos_tagged_review'].apply(\n",
    "    lambda sentence: [token for token, tag in sentence if tag in noun_tags]\n",
    ")\n",
    "\n",
    "# Display the DataFrame to see the results\n",
    "df.head()"
   ]
  },
  {
   "cell_type": "markdown",
   "metadata": {},
   "source": [
    "## 6. Lemmatization"
   ]
  },
  {
   "cell_type": "code",
   "execution_count": 160,
   "metadata": {},
   "outputs": [
    {
     "name": "stderr",
     "output_type": "stream",
     "text": [
      "[nltk_data] Downloading package wordnet to\n",
      "[nltk_data]     C:\\Users\\CS\\AppData\\Roaming\\nltk_data...\n",
      "[nltk_data]   Package wordnet is already up-to-date!\n",
      "[nltk_data] Downloading package omw-1.4 to\n",
      "[nltk_data]     C:\\Users\\CS\\AppData\\Roaming\\nltk_data...\n",
      "[nltk_data]   Package omw-1.4 is already up-to-date!\n"
     ]
    }
   ],
   "source": [
    "from nltk.stem import WordNetLemmatizer\n",
    "nltk.download('wordnet')\n",
    "nltk.download('omw-1.4')\n",
    "lemmatizer = WordNetLemmatizer()"
   ]
  },
  {
   "cell_type": "code",
   "execution_count": 161,
   "metadata": {},
   "outputs": [
    {
     "data": {
      "text/html": [
       "<div>\n",
       "<style scoped>\n",
       "    .dataframe tbody tr th:only-of-type {\n",
       "        vertical-align: middle;\n",
       "    }\n",
       "\n",
       "    .dataframe tbody tr th {\n",
       "        vertical-align: top;\n",
       "    }\n",
       "\n",
       "    .dataframe thead th {\n",
       "        text-align: right;\n",
       "    }\n",
       "</style>\n",
       "<table border=\"1\" class=\"dataframe\">\n",
       "  <thead>\n",
       "    <tr style=\"text-align: right;\">\n",
       "      <th></th>\n",
       "      <th>sentiment</th>\n",
       "      <th>review</th>\n",
       "      <th>cleaned_review</th>\n",
       "      <th>pos_tagged_review</th>\n",
       "      <th>nouns_only_review</th>\n",
       "      <th>lemmatized_review</th>\n",
       "    </tr>\n",
       "  </thead>\n",
       "  <tbody>\n",
       "    <tr>\n",
       "      <th>0</th>\n",
       "      <td>1</td>\n",
       "      <td>Good but need updates and improvements</td>\n",
       "      <td>[good, but, need, updates, and, improvements]</td>\n",
       "      <td>[(good, JJ), (but, CC), (need, VBP), (updates,...</td>\n",
       "      <td>[updates, improvements]</td>\n",
       "      <td>[update, improvement]</td>\n",
       "    </tr>\n",
       "    <tr>\n",
       "      <th>1</th>\n",
       "      <td>0</td>\n",
       "      <td>Worst mobile i have bought ever, Battery is dr...</td>\n",
       "      <td>[worst, mobile, i, have, bought, ever, battery...</td>\n",
       "      <td>[(worst, JJS), (mobile, NN), (i, NN), (have, V...</td>\n",
       "      <td>[mobile, i, battery, hell, backup, hours, inte...</td>\n",
       "      <td>[mobile, i, battery, hell, backup, hour, inter...</td>\n",
       "    </tr>\n",
       "    <tr>\n",
       "      <th>2</th>\n",
       "      <td>1</td>\n",
       "      <td>when I will get my 10% cash back.... its alrea...</td>\n",
       "      <td>[when, i, will, get, my, cash, back, its, alre...</td>\n",
       "      <td>[(when, WRB), (i, NN), (will, MD), (get, VB), ...</td>\n",
       "      <td>[i, cash]</td>\n",
       "      <td>[i, cash]</td>\n",
       "    </tr>\n",
       "    <tr>\n",
       "      <th>3</th>\n",
       "      <td>1</td>\n",
       "      <td>Good</td>\n",
       "      <td>[good]</td>\n",
       "      <td>[(good, JJ)]</td>\n",
       "      <td>[]</td>\n",
       "      <td>[]</td>\n",
       "    </tr>\n",
       "    <tr>\n",
       "      <th>4</th>\n",
       "      <td>0</td>\n",
       "      <td>The worst phone everThey have changed the last...</td>\n",
       "      <td>[the, worst, phone, everthey, have, changed, t...</td>\n",
       "      <td>[(the, DT), (worst, JJS), (phone, NN), (everth...</td>\n",
       "      <td>[phone, everthey, phone, problem, amazon, phon...</td>\n",
       "      <td>[phone, everthey, phone, problem, amazon, phon...</td>\n",
       "    </tr>\n",
       "  </tbody>\n",
       "</table>\n",
       "</div>"
      ],
      "text/plain": [
       "   sentiment                                             review  \\\n",
       "0          1             Good but need updates and improvements   \n",
       "1          0  Worst mobile i have bought ever, Battery is dr...   \n",
       "2          1  when I will get my 10% cash back.... its alrea...   \n",
       "3          1                                               Good   \n",
       "4          0  The worst phone everThey have changed the last...   \n",
       "\n",
       "                                      cleaned_review  \\\n",
       "0      [good, but, need, updates, and, improvements]   \n",
       "1  [worst, mobile, i, have, bought, ever, battery...   \n",
       "2  [when, i, will, get, my, cash, back, its, alre...   \n",
       "3                                             [good]   \n",
       "4  [the, worst, phone, everthey, have, changed, t...   \n",
       "\n",
       "                                   pos_tagged_review  \\\n",
       "0  [(good, JJ), (but, CC), (need, VBP), (updates,...   \n",
       "1  [(worst, JJS), (mobile, NN), (i, NN), (have, V...   \n",
       "2  [(when, WRB), (i, NN), (will, MD), (get, VB), ...   \n",
       "3                                       [(good, JJ)]   \n",
       "4  [(the, DT), (worst, JJS), (phone, NN), (everth...   \n",
       "\n",
       "                                   nouns_only_review  \\\n",
       "0                            [updates, improvements]   \n",
       "1  [mobile, i, battery, hell, backup, hours, inte...   \n",
       "2                                          [i, cash]   \n",
       "3                                                 []   \n",
       "4  [phone, everthey, phone, problem, amazon, phon...   \n",
       "\n",
       "                                   lemmatized_review  \n",
       "0                              [update, improvement]  \n",
       "1  [mobile, i, battery, hell, backup, hour, inter...  \n",
       "2                                          [i, cash]  \n",
       "3                                                 []  \n",
       "4  [phone, everthey, phone, problem, amazon, phon...  "
      ]
     },
     "execution_count": 161,
     "metadata": {},
     "output_type": "execute_result"
    }
   ],
   "source": [
    "df['lemmatized_review'] = df['nouns_only_review'].apply(\n",
    "    lambda nouns: [lemmatizer.lemmatize(word) for word in nouns]\n",
    ")\n",
    "\n",
    "# Display the DataFrame to see the results\n",
    "df.head()"
   ]
  },
  {
   "cell_type": "markdown",
   "metadata": {},
   "source": [
    "## 7. Remove stopwords and punctuation"
   ]
  },
  {
   "cell_type": "code",
   "execution_count": 162,
   "metadata": {},
   "outputs": [
    {
     "name": "stderr",
     "output_type": "stream",
     "text": [
      "[nltk_data] Downloading package stopwords to\n",
      "[nltk_data]     C:\\Users\\CS\\AppData\\Roaming\\nltk_data...\n",
      "[nltk_data]   Package stopwords is already up-to-date!\n"
     ]
    }
   ],
   "source": [
    "from nltk.corpus import stopwords\n",
    "nltk.download('stopwords')\n",
    "import string"
   ]
  },
  {
   "cell_type": "code",
   "execution_count": 163,
   "metadata": {},
   "outputs": [
    {
     "data": {
      "text/html": [
       "<div>\n",
       "<style scoped>\n",
       "    .dataframe tbody tr th:only-of-type {\n",
       "        vertical-align: middle;\n",
       "    }\n",
       "\n",
       "    .dataframe tbody tr th {\n",
       "        vertical-align: top;\n",
       "    }\n",
       "\n",
       "    .dataframe thead th {\n",
       "        text-align: right;\n",
       "    }\n",
       "</style>\n",
       "<table border=\"1\" class=\"dataframe\">\n",
       "  <thead>\n",
       "    <tr style=\"text-align: right;\">\n",
       "      <th></th>\n",
       "      <th>sentiment</th>\n",
       "      <th>review</th>\n",
       "      <th>cleaned_review</th>\n",
       "      <th>pos_tagged_review</th>\n",
       "      <th>nouns_only_review</th>\n",
       "      <th>lemmatized_review</th>\n",
       "    </tr>\n",
       "  </thead>\n",
       "  <tbody>\n",
       "    <tr>\n",
       "      <th>0</th>\n",
       "      <td>1</td>\n",
       "      <td>Good but need updates and improvements</td>\n",
       "      <td>[good, need, updates, improvements]</td>\n",
       "      <td>[(good, JJ), (but, CC), (need, VBP), (updates,...</td>\n",
       "      <td>[updates, improvements]</td>\n",
       "      <td>[update, improvement]</td>\n",
       "    </tr>\n",
       "    <tr>\n",
       "      <th>1</th>\n",
       "      <td>0</td>\n",
       "      <td>Worst mobile i have bought ever, Battery is dr...</td>\n",
       "      <td>[worst, mobile, bought, ever, battery, drainin...</td>\n",
       "      <td>[(worst, JJS), (mobile, NN), (i, NN), (have, V...</td>\n",
       "      <td>[mobile, i, battery, hell, backup, hours, inte...</td>\n",
       "      <td>[mobile, i, battery, hell, backup, hour, inter...</td>\n",
       "    </tr>\n",
       "    <tr>\n",
       "      <th>2</th>\n",
       "      <td>1</td>\n",
       "      <td>when I will get my 10% cash back.... its alrea...</td>\n",
       "      <td>[get, cash, back, already, january]</td>\n",
       "      <td>[(when, WRB), (i, NN), (will, MD), (get, VB), ...</td>\n",
       "      <td>[i, cash]</td>\n",
       "      <td>[i, cash]</td>\n",
       "    </tr>\n",
       "    <tr>\n",
       "      <th>3</th>\n",
       "      <td>1</td>\n",
       "      <td>Good</td>\n",
       "      <td>[good]</td>\n",
       "      <td>[(good, JJ)]</td>\n",
       "      <td>[]</td>\n",
       "      <td>[]</td>\n",
       "    </tr>\n",
       "    <tr>\n",
       "      <th>4</th>\n",
       "      <td>0</td>\n",
       "      <td>The worst phone everThey have changed the last...</td>\n",
       "      <td>[worst, phone, everthey, changed, last, phone,...</td>\n",
       "      <td>[(the, DT), (worst, JJS), (phone, NN), (everth...</td>\n",
       "      <td>[phone, everthey, phone, problem, amazon, phon...</td>\n",
       "      <td>[phone, everthey, phone, problem, amazon, phon...</td>\n",
       "    </tr>\n",
       "  </tbody>\n",
       "</table>\n",
       "</div>"
      ],
      "text/plain": [
       "   sentiment                                             review  \\\n",
       "0          1             Good but need updates and improvements   \n",
       "1          0  Worst mobile i have bought ever, Battery is dr...   \n",
       "2          1  when I will get my 10% cash back.... its alrea...   \n",
       "3          1                                               Good   \n",
       "4          0  The worst phone everThey have changed the last...   \n",
       "\n",
       "                                      cleaned_review  \\\n",
       "0                [good, need, updates, improvements]   \n",
       "1  [worst, mobile, bought, ever, battery, drainin...   \n",
       "2                [get, cash, back, already, january]   \n",
       "3                                             [good]   \n",
       "4  [worst, phone, everthey, changed, last, phone,...   \n",
       "\n",
       "                                   pos_tagged_review  \\\n",
       "0  [(good, JJ), (but, CC), (need, VBP), (updates,...   \n",
       "1  [(worst, JJS), (mobile, NN), (i, NN), (have, V...   \n",
       "2  [(when, WRB), (i, NN), (will, MD), (get, VB), ...   \n",
       "3                                       [(good, JJ)]   \n",
       "4  [(the, DT), (worst, JJS), (phone, NN), (everth...   \n",
       "\n",
       "                                   nouns_only_review  \\\n",
       "0                            [updates, improvements]   \n",
       "1  [mobile, i, battery, hell, backup, hours, inte...   \n",
       "2                                          [i, cash]   \n",
       "3                                                 []   \n",
       "4  [phone, everthey, phone, problem, amazon, phon...   \n",
       "\n",
       "                                   lemmatized_review  \n",
       "0                              [update, improvement]  \n",
       "1  [mobile, i, battery, hell, backup, hour, inter...  \n",
       "2                                          [i, cash]  \n",
       "3                                                 []  \n",
       "4  [phone, everthey, phone, problem, amazon, phon...  "
      ]
     },
     "execution_count": 163,
     "metadata": {},
     "output_type": "execute_result"
    }
   ],
   "source": [
    "\n",
    "stop_words = set(stopwords.words('english'))\n",
    "punctuation = set(string.punctuation)\n",
    "\n",
    "\n",
    "# Function to remove stopwords and punctuation\n",
    "def remove_stopwords_and_punctuation(words_list):\n",
    "    return [word for word in words_list if word not in stop_words and word not in punctuation]\n",
    "\n",
    "# Apply the function to the lemmatized reviews\n",
    "df['cleaned_review'] = df['cleaned_review'].apply(remove_stopwords_and_punctuation)\n",
    "\n",
    "# Display the DataFrame to see the results\n",
    "df.head()\n",
    "\n",
    "\n",
    "\n",
    "df.head()"
   ]
  },
  {
   "cell_type": "markdown",
   "metadata": {},
   "source": [
    "## 8.Create a topic model using LDA on the cleaned-up data with 12 topics"
   ]
  },
  {
   "cell_type": "code",
   "execution_count": 164,
   "metadata": {},
   "outputs": [],
   "source": [
    "from IPython.display import clear_output\n",
    "from gensim import corpora\n",
    "import gensim"
   ]
  },
  {
   "cell_type": "code",
   "execution_count": 165,
   "metadata": {},
   "outputs": [
    {
     "name": "stdout",
     "output_type": "stream",
     "text": [
      "Dictionary<11176 unique tokens: ['good', 'improvements', 'need', 'updates', 'amazon']...>\n"
     ]
    }
   ],
   "source": [
    "dictionary = corpora.Dictionary(df['cleaned_review'])\n",
    "print(dictionary)"
   ]
  },
  {
   "cell_type": "code",
   "execution_count": 166,
   "metadata": {},
   "outputs": [
    {
     "data": {
      "text/plain": [
       "0                     [(0, 1), (1, 1), (2, 1), (3, 1)]\n",
       "1    [(4, 1), (5, 1), (6, 2), (7, 1), (8, 1), (9, 1...\n",
       "2        [(45, 1), (46, 1), (47, 1), (48, 1), (49, 1)]\n",
       "3                                             [(0, 1)]\n",
       "4    [(4, 2), (44, 1), (50, 1), (51, 1), (52, 1), (...\n",
       "5    [(59, 1), (60, 1), (61, 1), (62, 1), (63, 1), ...\n",
       "6    [(30, 1), (55, 1), (66, 1), (67, 1), (68, 1), ...\n",
       "7                           [(6, 1), (76, 1), (77, 1)]\n",
       "8    [(30, 2), (55, 2), (72, 1), (73, 1), (78, 1), ...\n",
       "9    [(22, 1), (88, 1), (89, 1), (90, 1), (91, 1), ...\n",
       "Name: cleaned_review, dtype: object"
      ]
     },
     "execution_count": 166,
     "metadata": {},
     "output_type": "execute_result"
    }
   ],
   "source": [
    "term_matrix = df['cleaned_review'].apply(lambda x: dictionary.doc2bow(x))\n",
    "term_matrix[:10]"
   ]
  },
  {
   "cell_type": "code",
   "execution_count": 167,
   "metadata": {},
   "outputs": [],
   "source": [
    "lda = gensim.models.ldamodel.LdaModel\n",
    "ldamodel = lda(corpus = term_matrix, num_topics=12, id2word=dictionary, passes=10, random_state=45)\n",
    "clear_output()"
   ]
  },
  {
   "cell_type": "code",
   "execution_count": 168,
   "metadata": {},
   "outputs": [
    {
     "name": "stdout",
     "output_type": "stream",
     "text": [
      "Topic: 0 \n",
      "Words: 0.077*\"waste\" + 0.060*\"money\" + 0.053*\"hai\" + 0.041*\"h\" + 0.034*\"worth\" + 0.022*\"ho\" + 0.017*\"nhi\" + 0.015*\"nahi\" + 0.014*\"bhi\" + 0.013*\"love\"\n",
      "Topic: 1 \n",
      "Words: 0.084*\"good\" + 0.054*\"phone\" + 0.028*\"one\" + 0.015*\"average\" + 0.015*\"dolby\" + 0.012*\"speaker\" + 0.011*\"android\" + 0.010*\"stock\" + 0.010*\"budget\" + 0.010*\"sound\"\n",
      "Topic: 2 \n",
      "Words: 0.132*\"k\" + 0.107*\"lenovo\" + 0.104*\"note\" + 0.029*\"better\" + 0.013*\"redmi\" + 0.012*\"compared\" + 0.011*\"features\" + 0.011*\"gb\" + 0.010*\"mi\" + 0.008*\"much\"\n",
      "Topic: 3 \n",
      "Words: 0.133*\"phone\" + 0.116*\"best\" + 0.080*\"price\" + 0.056*\"buy\" + 0.054*\"worst\" + 0.051*\"mobile\" + 0.036*\"superb\" + 0.034*\"range\" + 0.025*\"product\" + 0.023*\"ever\"\n",
      "Topic: 4 \n",
      "Words: 0.262*\"good\" + 0.084*\"camera\" + 0.057*\"quality\" + 0.052*\"battery\" + 0.044*\"phone\" + 0.039*\"product\" + 0.031*\"poor\" + 0.030*\"mobile\" + 0.028*\"performance\" + 0.024*\"excellent\"\n",
      "Topic: 5 \n",
      "Words: 0.038*\"phone\" + 0.019*\"update\" + 0.016*\"lenovo\" + 0.016*\"even\" + 0.015*\"screen\" + 0.013*\"buy\" + 0.012*\"like\" + 0.011*\"software\" + 0.010*\"u\" + 0.009*\"glass\"\n",
      "Topic: 6 \n",
      "Words: 0.228*\"nice\" + 0.088*\"product\" + 0.076*\"phone\" + 0.065*\"bad\" + 0.041*\"mobile\" + 0.040*\"delivery\" + 0.030*\"amazon\" + 0.022*\"happy\" + 0.018*\"thanks\" + 0.018*\"gud\"\n",
      "Topic: 7 \n",
      "Words: 0.049*\"phone\" + 0.026*\"amazon\" + 0.025*\"mobile\" + 0.022*\"product\" + 0.018*\"buy\" + 0.017*\"service\" + 0.015*\"return\" + 0.015*\"problem\" + 0.014*\"getting\" + 0.014*\"worst\"\n",
      "Topic: 8 \n",
      "Words: 0.120*\"battery\" + 0.042*\"charging\" + 0.036*\"fast\" + 0.027*\"heating\" + 0.021*\"charge\" + 0.020*\"phone\" + 0.017*\"hours\" + 0.016*\"g\" + 0.016*\"day\" + 0.016*\"drains\"\n",
      "Topic: 9 \n",
      "Words: 0.085*\"camera\" + 0.045*\"phone\" + 0.034*\"great\" + 0.018*\"front\" + 0.017*\"mode\" + 0.016*\"dual\" + 0.016*\"price\" + 0.014*\"depth\" + 0.013*\"amazing\" + 0.012*\"awesome\"\n",
      "Topic: 10 \n",
      "Words: 0.094*\"awesome\" + 0.052*\"ok\" + 0.042*\"super\" + 0.036*\"phone\" + 0.032*\"everything\" + 0.028*\"charger\" + 0.025*\"mobile\" + 0.022*\"box\" + 0.022*\"received\" + 0.021*\"handset\"\n",
      "Topic: 11 \n",
      "Words: 0.070*\"problem\" + 0.055*\"working\" + 0.041*\"heating\" + 0.031*\"mobile\" + 0.030*\"network\" + 0.029*\"call\" + 0.024*\"screen\" + 0.023*\"issue\" + 0.023*\"properly\" + 0.019*\"phone\"\n"
     ]
    }
   ],
   "source": [
    "for idx, topic in ldamodel.print_topics(-1):\n",
    "    print('Topic: {} \\nWords: {}'.format(idx, topic))"
   ]
  },
  {
   "cell_type": "code",
   "execution_count": 169,
   "metadata": {},
   "outputs": [],
   "source": [
    "from gensim.models.coherencemodel import CoherenceModel"
   ]
  },
  {
   "cell_type": "code",
   "execution_count": 170,
   "metadata": {},
   "outputs": [
    {
     "name": "stdout",
     "output_type": "stream",
     "text": [
      "\n",
      "Coherence Score:  0.5636946651813597\n"
     ]
    }
   ],
   "source": [
    "coherence_modellda = CoherenceModel(model=ldamodel,texts=df['cleaned_review'],\\\n",
    "                                     dictionary=dictionary , coherence='c_v')\n",
    "print('\\nCoherence Score: ', coherence_modellda.get_coherence())"
   ]
  },
  {
   "cell_type": "code",
   "execution_count": 171,
   "metadata": {},
   "outputs": [],
   "source": [
    "def calculate_topic_cv(ldamodel,texts,dictionary,topic_range):\n",
    "  cv_score =[]\n",
    "  topic_num = []\n",
    "  for i in range(2,topic_range):\n",
    "    topic_num.append(i)\n",
    "    Lda = gensim.models.ldamodel.LdaModel\n",
    "    ldamodel = Lda(term_matrix, num_topics=i, id2word=dictionary, passes=10,random_state=45)\n",
    "    cv_score.append(CoherenceModel(model=ldamodel,texts=texts,\\\n",
    "                                   dictionary=dictionary , coherence='c_v').get_coherence())\n",
    "    clear_output()\n",
    "  return topic_num,cv_score"
   ]
  },
  {
   "cell_type": "code",
   "execution_count": 172,
   "metadata": {},
   "outputs": [],
   "source": [
    "topic_num,cv_score = calculate_topic_cv(ldamodel,df['cleaned_review'],dictionary,15)"
   ]
  },
  {
   "cell_type": "markdown",
   "metadata": {},
   "source": [
    "## 9 -> 11"
   ]
  },
  {
   "cell_type": "code",
   "execution_count": 173,
   "metadata": {},
   "outputs": [
    {
     "data": {
      "text/html": [
       "<div>\n",
       "<style scoped>\n",
       "    .dataframe tbody tr th:only-of-type {\n",
       "        vertical-align: middle;\n",
       "    }\n",
       "\n",
       "    .dataframe tbody tr th {\n",
       "        vertical-align: top;\n",
       "    }\n",
       "\n",
       "    .dataframe thead th {\n",
       "        text-align: right;\n",
       "    }\n",
       "</style>\n",
       "<table border=\"1\" class=\"dataframe\">\n",
       "  <thead>\n",
       "    <tr style=\"text-align: right;\">\n",
       "      <th></th>\n",
       "      <th>Coherence_Score</th>\n",
       "    </tr>\n",
       "    <tr>\n",
       "      <th>Topic</th>\n",
       "      <th></th>\n",
       "    </tr>\n",
       "  </thead>\n",
       "  <tbody>\n",
       "    <tr>\n",
       "      <th>5</th>\n",
       "      <td>0.566674</td>\n",
       "    </tr>\n",
       "    <tr>\n",
       "      <th>12</th>\n",
       "      <td>0.563695</td>\n",
       "    </tr>\n",
       "    <tr>\n",
       "      <th>2</th>\n",
       "      <td>0.562572</td>\n",
       "    </tr>\n",
       "    <tr>\n",
       "      <th>3</th>\n",
       "      <td>0.560277</td>\n",
       "    </tr>\n",
       "    <tr>\n",
       "      <th>4</th>\n",
       "      <td>0.550222</td>\n",
       "    </tr>\n",
       "    <tr>\n",
       "      <th>14</th>\n",
       "      <td>0.542320</td>\n",
       "    </tr>\n",
       "    <tr>\n",
       "      <th>13</th>\n",
       "      <td>0.542115</td>\n",
       "    </tr>\n",
       "    <tr>\n",
       "      <th>10</th>\n",
       "      <td>0.538265</td>\n",
       "    </tr>\n",
       "    <tr>\n",
       "      <th>9</th>\n",
       "      <td>0.536980</td>\n",
       "    </tr>\n",
       "    <tr>\n",
       "      <th>8</th>\n",
       "      <td>0.520369</td>\n",
       "    </tr>\n",
       "    <tr>\n",
       "      <th>11</th>\n",
       "      <td>0.518981</td>\n",
       "    </tr>\n",
       "    <tr>\n",
       "      <th>7</th>\n",
       "      <td>0.517533</td>\n",
       "    </tr>\n",
       "    <tr>\n",
       "      <th>6</th>\n",
       "      <td>0.501729</td>\n",
       "    </tr>\n",
       "  </tbody>\n",
       "</table>\n",
       "</div>"
      ],
      "text/plain": [
       "       Coherence_Score\n",
       "Topic                 \n",
       "5             0.566674\n",
       "12            0.563695\n",
       "2             0.562572\n",
       "3             0.560277\n",
       "4             0.550222\n",
       "14            0.542320\n",
       "13            0.542115\n",
       "10            0.538265\n",
       "9             0.536980\n",
       "8             0.520369\n",
       "11            0.518981\n",
       "7             0.517533\n",
       "6             0.501729"
      ]
     },
     "execution_count": 173,
     "metadata": {},
     "output_type": "execute_result"
    }
   ],
   "source": [
    "pd.DataFrame(zip(topic_num,cv_score),columns=['Topic','Coherence_Score']).set_index\\\n",
    "('Topic').sort_values('Coherence_Score',ascending=False)"
   ]
  },
  {
   "cell_type": "code",
   "execution_count": 174,
   "metadata": {},
   "outputs": [
    {
     "data": {
      "image/png": "[encoded data removed]",
      "text/plain": [
       "<Figure size 640x480 with 1 Axes>"
      ]
     },
     "metadata": {},
     "output_type": "display_data"
    }
   ],
   "source": [
    "import matplotlib.pyplot as plt\n",
    "\n",
    "plt.plot(topic_num,cv_score,color='green', marker='o', linestyle='dashed')\n",
    "plt.xticks(range(2,15))\n",
    "plt.xlabel('Number of topics')\n",
    "plt.ylabel('Coherence score')\n",
    "plt.show()"
   ]
  },
  {
   "cell_type": "code",
   "execution_count": 175,
   "metadata": {},
   "outputs": [
    {
     "name": "stdout",
     "output_type": "stream",
     "text": [
      "0.5017293550930038\n"
     ]
    }
   ],
   "source": [
    "Lda = gensim.models.ldamodel.LdaModel\n",
    "ldamodel = Lda(term_matrix, num_topics=6, id2word=dictionary, passes=10,random_state=45)\n",
    "clear_output()\n",
    "print(CoherenceModel(model=ldamodel,texts=df['cleaned_review'],\\\n",
    "                     dictionary=dictionary , coherence='c_v').get_coherence())"
   ]
  },
  {
   "cell_type": "code",
   "execution_count": 176,
   "metadata": {},
   "outputs": [
    {
     "data": {
      "text/plain": [
       "[(0,\n",
       "  '0.104*\"product\" + 0.022*\"hai\" + 0.019*\"waste\" + 0.017*\"h\" + 0.013*\"money\" + 0.011*\"nice\" + 0.011*\"box\" + 0.010*\"received\" + 0.009*\"ho\" + 0.008*\"handset\"'),\n",
       " (1,\n",
       "  '0.154*\"good\" + 0.105*\"phone\" + 0.044*\"nice\" + 0.030*\"price\" + 0.022*\"great\" + 0.016*\"camera\" + 0.015*\"features\" + 0.013*\"worth\" + 0.013*\"money\" + 0.011*\"range\"'),\n",
       " (2,\n",
       "  '0.058*\"k\" + 0.045*\"note\" + 0.043*\"lenovo\" + 0.012*\"screen\" + 0.012*\"better\" + 0.012*\"gb\" + 0.011*\"call\" + 0.010*\"like\" + 0.010*\"working\" + 0.008*\"features\"'),\n",
       " (3,\n",
       "  '0.084*\"mobile\" + 0.075*\"phone\" + 0.054*\"best\" + 0.047*\"heating\" + 0.044*\"problem\" + 0.038*\"awesome\" + 0.019*\"worst\" + 0.019*\"buy\" + 0.017*\"issue\" + 0.017*\"bad\"'),\n",
       " (4,\n",
       "  '0.079*\"camera\" + 0.069*\"battery\" + 0.062*\"good\" + 0.035*\"quality\" + 0.020*\"poor\" + 0.016*\"backup\" + 0.016*\"fast\" + 0.015*\"performance\" + 0.015*\"charging\" + 0.013*\"excellent\"'),\n",
       " (5,\n",
       "  '0.041*\"phone\" + 0.013*\"buy\" + 0.013*\"battery\" + 0.012*\"even\" + 0.012*\"amazon\" + 0.012*\"lenovo\" + 0.010*\"issue\" + 0.010*\"problem\" + 0.010*\"time\" + 0.010*\"mobile\"')]"
      ]
     },
     "execution_count": 176,
     "metadata": {},
     "output_type": "execute_result"
    }
   ],
   "source": [
    "ldamodel.print_topics()"
   ]
  },
  {
   "cell_type": "code",
   "execution_count": 177,
   "metadata": {},
   "outputs": [
    {
     "data": {
      "text/html": [
       "<style type=\"text/css\">\n",
       "#T_b80ac_row0_col2, #T_b80ac_row1_col2, #T_b80ac_row2_col2, #T_b80ac_row3_col2, #T_b80ac_row4_col2, #T_b80ac_row5_col2 {\n",
       "  width: 600px;\n",
       "}\n",
       "</style>\n",
       "<table id=\"T_b80ac\">\n",
       "  <thead>\n",
       "    <tr>\n",
       "      <th class=\"blank level0\" >&nbsp;</th>\n",
       "      <th id=\"T_b80ac_level0_col0\" class=\"col_heading level0 col0\" >Topic_Number</th>\n",
       "      <th id=\"T_b80ac_level0_col1\" class=\"col_heading level0 col1\" >Topic_Name</th>\n",
       "      <th id=\"T_b80ac_level0_col2\" class=\"col_heading level0 col2\" >Top_Keywords</th>\n",
       "    </tr>\n",
       "  </thead>\n",
       "  <tbody>\n",
       "    <tr>\n",
       "      <th id=\"T_b80ac_level0_row0\" class=\"row_heading level0 row0\" >0</th>\n",
       "      <td id=\"T_b80ac_row0_col0\" class=\"data row0 col0\" >0</td>\n",
       "      <td id=\"T_b80ac_row0_col1\" class=\"data row0 col1\" >Camera, Sound</td>\n",
       "      <td id=\"T_b80ac_row0_col2\" class=\"data row0 col2\" >['product', 'hai', 'waste', 'h', 'money', 'nice', 'box', 'received', 'ho', 'handset']</td>\n",
       "    </tr>\n",
       "    <tr>\n",
       "      <th id=\"T_b80ac_level0_row1\" class=\"row_heading level0 row1\" >1</th>\n",
       "      <td id=\"T_b80ac_row1_col0\" class=\"data row1 col0\" >1</td>\n",
       "      <td id=\"T_b80ac_row1_col1\" class=\"data row1 col1\" >Mixed issues</td>\n",
       "      <td id=\"T_b80ac_row1_col2\" class=\"data row1 col2\" >['good', 'phone', 'nice', 'price', 'great', 'camera', 'features', 'worth', 'money', 'range']</td>\n",
       "    </tr>\n",
       "    <tr>\n",
       "      <th id=\"T_b80ac_level0_row2\" class=\"row_heading level0 row2\" >2</th>\n",
       "      <td id=\"T_b80ac_row2_col0\" class=\"data row2 col0\" >2</td>\n",
       "      <td id=\"T_b80ac_row2_col1\" class=\"data row2 col1\" >Heating issue</td>\n",
       "      <td id=\"T_b80ac_row2_col2\" class=\"data row2 col2\" >['k', 'note', 'lenovo', 'screen', 'better', 'gb', 'call', 'like', 'working', 'features']</td>\n",
       "    </tr>\n",
       "    <tr>\n",
       "      <th id=\"T_b80ac_level0_row3\" class=\"row_heading level0 row3\" >3</th>\n",
       "      <td id=\"T_b80ac_row3_col0\" class=\"data row3 col0\" >3</td>\n",
       "      <td id=\"T_b80ac_row3_col1\" class=\"data row3 col1\" >turbo charger</td>\n",
       "      <td id=\"T_b80ac_row3_col2\" class=\"data row3 col2\" >['mobile', 'phone', 'best', 'heating', 'problem', 'awesome', 'worst', 'buy', 'issue', 'bad']</td>\n",
       "    </tr>\n",
       "    <tr>\n",
       "      <th id=\"T_b80ac_level0_row4\" class=\"row_heading level0 row4\" >4</th>\n",
       "      <td id=\"T_b80ac_row4_col0\" class=\"data row4 col0\" >4</td>\n",
       "      <td id=\"T_b80ac_row4_col1\" class=\"data row4 col1\" >Connectivity</td>\n",
       "      <td id=\"T_b80ac_row4_col2\" class=\"data row4 col2\" >['camera', 'battery', 'good', 'quality', 'poor', 'backup', 'fast', 'performance', 'charging', 'excellent']</td>\n",
       "    </tr>\n",
       "    <tr>\n",
       "      <th id=\"T_b80ac_level0_row5\" class=\"row_heading level0 row5\" >5</th>\n",
       "      <td id=\"T_b80ac_row5_col0\" class=\"data row5 col0\" >5</td>\n",
       "      <td id=\"T_b80ac_row5_col1\" class=\"data row5 col1\" >Battery</td>\n",
       "      <td id=\"T_b80ac_row5_col2\" class=\"data row5 col2\" >['phone', 'buy', 'battery', 'even', 'amazon', 'lenovo', 'issue', 'problem', 'time', 'mobile']</td>\n",
       "    </tr>\n",
       "  </tbody>\n",
       "</table>\n"
      ],
      "text/plain": [
       "<pandas.io.formats.style.Styler at 0x21366836fb0>"
      ]
     },
     "execution_count": 177,
     "metadata": {},
     "output_type": "execute_result"
    }
   ],
   "source": [
    "topic_lookup_data = pd.DataFrame((ldamodel.print_topics()),columns=['Topic_Number','Top_Keywords'])\n",
    "topic_lookup_data['Topic_Name'] = ['Camera, Sound','Mixed issues','Heating issue','turbo charger','Connectivity','Battery']\n",
    "topic_lookup_data = topic_lookup_data[['Topic_Number','Topic_Name','Top_Keywords']]\n",
    "topic_lookup_data['Top_Keywords'] = topic_lookup_data.Top_Keywords.str\\\n",
    ".replace(r'[^a-z]',' ',regex=True).apply(lambda x: x.split())\n",
    "topic_lookup_data.style.set_properties(subset=['Top_Keywords'], **{'width': '600px'})"
   ]
  },
  {
   "cell_type": "code",
   "execution_count": 178,
   "metadata": {},
   "outputs": [],
   "source": [
    "for index,sent in enumerate(ldamodel[term_matrix]):\n",
    "  topic_num =[]\n",
    "  topic_details = sorted(sent,key=lambda x: x[1], reverse=True)[:2] # Getting top 2 topics in descending order\n",
    "  topic_num.append(topic_details[0][0]) # Appending top topic\n",
    "  if len(topic_details) > 1:\n",
    "    if topic_details[1][1] > 0.35: # Appending second topic only if it has more than 35% influence on current row\n",
    "      topic_num.append(topic_details[1][0])\n",
    "  df.loc[index,'Topic_Number'] = ','.join(str(x) for x in sorted(topic_num))"
   ]
  },
  {
   "cell_type": "code",
   "execution_count": 179,
   "metadata": {},
   "outputs": [],
   "source": [
    "for index,topic_num in enumerate(df.Topic_Number):\n",
    "  topic_name_list=[]\n",
    "  for single_topic_num in topic_num.split(','):\n",
    "    single_topic_num=int(single_topic_num)\n",
    "    topic_name_list.append(topic_lookup_data.loc\\\n",
    "                           [topic_lookup_data.Topic_Number == single_topic_num,'Topic_Name'][single_topic_num]) \n",
    "  # Extracting topic names from lookup table\n",
    "  df.loc[index,'Topic_Name'] =' & '.join(topic_name_list)"
   ]
  },
  {
   "cell_type": "code",
   "execution_count": 182,
   "metadata": {},
   "outputs": [
    {
     "data": {
      "text/html": [
       "<div>\n",
       "<style scoped>\n",
       "    .dataframe tbody tr th:only-of-type {\n",
       "        vertical-align: middle;\n",
       "    }\n",
       "\n",
       "    .dataframe tbody tr th {\n",
       "        vertical-align: top;\n",
       "    }\n",
       "\n",
       "    .dataframe thead th {\n",
       "        text-align: right;\n",
       "    }\n",
       "</style>\n",
       "<table border=\"1\" class=\"dataframe\">\n",
       "  <thead>\n",
       "    <tr style=\"text-align: right;\">\n",
       "      <th></th>\n",
       "      <th>sentiment</th>\n",
       "      <th>review</th>\n",
       "      <th>cleaned_review</th>\n",
       "      <th>pos_tagged_review</th>\n",
       "      <th>nouns_only_review</th>\n",
       "      <th>lemmatized_review</th>\n",
       "      <th>Topic_Number</th>\n",
       "      <th>Topic_Name</th>\n",
       "    </tr>\n",
       "  </thead>\n",
       "  <tbody>\n",
       "    <tr>\n",
       "      <th>0</th>\n",
       "      <td>1</td>\n",
       "      <td>Good but need updates and improvements</td>\n",
       "      <td>[good, need, updates, improvements]</td>\n",
       "      <td>[(good, JJ), (but, CC), (need, VBP), (updates,...</td>\n",
       "      <td>[updates, improvements]</td>\n",
       "      <td>[update, improvement]</td>\n",
       "      <td>2</td>\n",
       "      <td>Heating issue</td>\n",
       "    </tr>\n",
       "    <tr>\n",
       "      <th>1</th>\n",
       "      <td>0</td>\n",
       "      <td>Worst mobile i have bought ever, Battery is dr...</td>\n",
       "      <td>[worst, mobile, bought, ever, battery, drainin...</td>\n",
       "      <td>[(worst, JJS), (mobile, NN), (i, NN), (have, V...</td>\n",
       "      <td>[mobile, i, battery, hell, backup, hours, inte...</td>\n",
       "      <td>[mobile, i, battery, hell, backup, hour, inter...</td>\n",
       "      <td>5</td>\n",
       "      <td>Battery</td>\n",
       "    </tr>\n",
       "    <tr>\n",
       "      <th>2</th>\n",
       "      <td>1</td>\n",
       "      <td>when I will get my 10% cash back.... its alrea...</td>\n",
       "      <td>[get, cash, back, already, january]</td>\n",
       "      <td>[(when, WRB), (i, NN), (will, MD), (get, VB), ...</td>\n",
       "      <td>[i, cash]</td>\n",
       "      <td>[i, cash]</td>\n",
       "      <td>5</td>\n",
       "      <td>Battery</td>\n",
       "    </tr>\n",
       "    <tr>\n",
       "      <th>3</th>\n",
       "      <td>1</td>\n",
       "      <td>Good</td>\n",
       "      <td>[good]</td>\n",
       "      <td>[(good, JJ)]</td>\n",
       "      <td>[]</td>\n",
       "      <td>[]</td>\n",
       "      <td>1</td>\n",
       "      <td>Mixed issues</td>\n",
       "    </tr>\n",
       "    <tr>\n",
       "      <th>4</th>\n",
       "      <td>0</td>\n",
       "      <td>The worst phone everThey have changed the last...</td>\n",
       "      <td>[worst, phone, everthey, changed, last, phone,...</td>\n",
       "      <td>[(the, DT), (worst, JJS), (phone, NN), (everth...</td>\n",
       "      <td>[phone, everthey, phone, problem, amazon, phon...</td>\n",
       "      <td>[phone, everthey, phone, problem, amazon, phon...</td>\n",
       "      <td>5</td>\n",
       "      <td>Battery</td>\n",
       "    </tr>\n",
       "  </tbody>\n",
       "</table>\n",
       "</div>"
      ],
      "text/plain": [
       "   sentiment                                             review  \\\n",
       "0          1             Good but need updates and improvements   \n",
       "1          0  Worst mobile i have bought ever, Battery is dr...   \n",
       "2          1  when I will get my 10% cash back.... its alrea...   \n",
       "3          1                                               Good   \n",
       "4          0  The worst phone everThey have changed the last...   \n",
       "\n",
       "                                      cleaned_review  \\\n",
       "0                [good, need, updates, improvements]   \n",
       "1  [worst, mobile, bought, ever, battery, drainin...   \n",
       "2                [get, cash, back, already, january]   \n",
       "3                                             [good]   \n",
       "4  [worst, phone, everthey, changed, last, phone,...   \n",
       "\n",
       "                                   pos_tagged_review  \\\n",
       "0  [(good, JJ), (but, CC), (need, VBP), (updates,...   \n",
       "1  [(worst, JJS), (mobile, NN), (i, NN), (have, V...   \n",
       "2  [(when, WRB), (i, NN), (will, MD), (get, VB), ...   \n",
       "3                                       [(good, JJ)]   \n",
       "4  [(the, DT), (worst, JJS), (phone, NN), (everth...   \n",
       "\n",
       "                                   nouns_only_review  \\\n",
       "0                            [updates, improvements]   \n",
       "1  [mobile, i, battery, hell, backup, hours, inte...   \n",
       "2                                          [i, cash]   \n",
       "3                                                 []   \n",
       "4  [phone, everthey, phone, problem, amazon, phon...   \n",
       "\n",
       "                                   lemmatized_review Topic_Number  \\\n",
       "0                              [update, improvement]            2   \n",
       "1  [mobile, i, battery, hell, backup, hour, inter...            5   \n",
       "2                                          [i, cash]            5   \n",
       "3                                                 []            1   \n",
       "4  [phone, everthey, phone, problem, amazon, phon...            5   \n",
       "\n",
       "      Topic_Name  \n",
       "0  Heating issue  \n",
       "1        Battery  \n",
       "2        Battery  \n",
       "3   Mixed issues  \n",
       "4        Battery  "
      ]
     },
     "execution_count": 182,
     "metadata": {},
     "output_type": "execute_result"
    }
   ],
   "source": [
    "df.head()"
   ]
  },
  {
   "cell_type": "markdown",
   "metadata": {},
   "source": [
    "## Visualized Reviewed Topic"
   ]
  },
  {
   "cell_type": "code",
   "execution_count": 142,
   "metadata": {},
   "outputs": [],
   "source": [
    "import seaborn as sns"
   ]
  },
  {
   "cell_type": "code",
   "execution_count": 186,
   "metadata": {},
   "outputs": [
    {
     "data": {
      "image/png": "[encoded data removed]",
      "text/plain": [
       "<Figure size 1200x600 with 1 Axes>"
      ]
     },
     "metadata": {},
     "output_type": "display_data"
    }
   ],
   "source": [
    "plt.figure(figsize=(12,6))\n",
    "ax = sns.barplot(x=df.Topic_Name.value_counts()[6:].index,y=df.Topic_Name.value_counts()[6:].values)\n",
    "for p in ax.patches:\n",
    "    ax.annotate(p.get_height(), (p.get_x() + p.get_width() / 2., p.get_height()+5),ha = 'center', va = 'center')\n",
    "plt.xlabel('Topic Names combined',size=15)\n",
    "plt.ylabel('Count of combined topics',size=15)\n",
    "plt.title('Most talked combined topics in reviews',size=15)\n",
    "plt.xticks(rotation=45)\n",
    "plt.show()"
   ]
  },
  {
   "cell_type": "code",
   "execution_count": 188,
   "metadata": {},
   "outputs": [
    {
     "data": {
      "text/html": [
       "<style type=\"text/css\">\n",
       "#T_55225_row0_col0, #T_55225_row1_col0, #T_55225_row2_col0, #T_55225_row3_col0, #T_55225_row4_col0, #T_55225_row5_col0, #T_55225_row6_col0, #T_55225_row7_col0, #T_55225_row8_col0, #T_55225_row9_col0 {\n",
       "  width: 600px;\n",
       "}\n",
       "</style>\n",
       "<table id=\"T_55225\">\n",
       "  <thead>\n",
       "    <tr>\n",
       "      <th class=\"blank level0\" >&nbsp;</th>\n",
       "      <th id=\"T_55225_level0_col0\" class=\"col_heading level0 col0\" >review</th>\n",
       "      <th id=\"T_55225_level0_col1\" class=\"col_heading level0 col1\" >Topic_Name</th>\n",
       "    </tr>\n",
       "  </thead>\n",
       "  <tbody>\n",
       "    <tr>\n",
       "      <th id=\"T_55225_level0_row0\" class=\"row_heading level0 row0\" >1</th>\n",
       "      <td id=\"T_55225_row0_col0\" class=\"data row0 col0\" >Worst mobile i have bought ever, Battery is draining like hell, backup is only 6 to 7 hours with internet uses, even if I put mobile idle its getting discharged.This is biggest lie from Amazon & Lenove which is not at all expected, they are making full by saying that battery is 4000MAH & booster charger is fake, it takes at least 4 to 5 hours to be fully charged.Don't know how Lenovo will survive by making full of us.Please don;t go for this else you will regret like me.</td>\n",
       "      <td id=\"T_55225_row0_col1\" class=\"data row0 col1\" >Battery</td>\n",
       "    </tr>\n",
       "    <tr>\n",
       "      <th id=\"T_55225_level0_row1\" class=\"row_heading level0 row1\" >2</th>\n",
       "      <td id=\"T_55225_row1_col0\" class=\"data row1 col0\" >when I will get my 10% cash back.... its already 15 January..</td>\n",
       "      <td id=\"T_55225_row1_col1\" class=\"data row1 col1\" >Battery</td>\n",
       "    </tr>\n",
       "    <tr>\n",
       "      <th id=\"T_55225_level0_row2\" class=\"row_heading level0 row2\" >4</th>\n",
       "      <td id=\"T_55225_row2_col0\" class=\"data row2 col0\" >The worst phone everThey have changed the last phone but the problem is still same and the amazon is not returning the phone .Highly disappointing of amazon</td>\n",
       "      <td id=\"T_55225_row2_col1\" class=\"data row2 col1\" >Battery</td>\n",
       "    </tr>\n",
       "    <tr>\n",
       "      <th id=\"T_55225_level0_row3\" class=\"row_heading level0 row3\" >7</th>\n",
       "      <td id=\"T_55225_row3_col0\" class=\"data row3 col0\" >The battery level has worn down</td>\n",
       "      <td id=\"T_55225_row3_col1\" class=\"data row3 col1\" >Battery</td>\n",
       "    </tr>\n",
       "    <tr>\n",
       "      <th id=\"T_55225_level0_row4\" class=\"row_heading level0 row4\" >9</th>\n",
       "      <td id=\"T_55225_row4_col0\" class=\"data row4 col0\" >A lot of glitches dont buy this thing better go for some other options</td>\n",
       "      <td id=\"T_55225_row4_col1\" class=\"data row4 col1\" >Battery</td>\n",
       "    </tr>\n",
       "    <tr>\n",
       "      <th id=\"T_55225_level0_row5\" class=\"row_heading level0 row5\" >11</th>\n",
       "      <td id=\"T_55225_row5_col0\" class=\"data row5 col0\" >Good phone but charger not working / damage within 2 months.</td>\n",
       "      <td id=\"T_55225_row5_col1\" class=\"data row5 col1\" >Battery</td>\n",
       "    </tr>\n",
       "    <tr>\n",
       "      <th id=\"T_55225_level0_row6\" class=\"row_heading level0 row6\" >16</th>\n",
       "      <td id=\"T_55225_row6_col0\" class=\"data row6 col0\" >every time automatic on and off so kindly suggest me what i can do</td>\n",
       "      <td id=\"T_55225_row6_col1\" class=\"data row6 col1\" >Battery</td>\n",
       "    </tr>\n",
       "    <tr>\n",
       "      <th id=\"T_55225_level0_row7\" class=\"row_heading level0 row7\" >18</th>\n",
       "      <td id=\"T_55225_row7_col0\" class=\"data row7 col0\" >Battery draining very rapidly I don't know why..Tell me possible solutions for battery life</td>\n",
       "      <td id=\"T_55225_row7_col1\" class=\"data row7 col1\" >Battery</td>\n",
       "    </tr>\n",
       "    <tr>\n",
       "      <th id=\"T_55225_level0_row8\" class=\"row_heading level0 row8\" >29</th>\n",
       "      <td id=\"T_55225_row8_col0\" class=\"data row8 col0\" >I bouth this Fon , but I am surprised to see that,This Fon has two speekars but only one ringing other is non ringing. I am disappointed .</td>\n",
       "      <td id=\"T_55225_row8_col1\" class=\"data row8 col1\" >Mixed issues & Battery</td>\n",
       "    </tr>\n",
       "    <tr>\n",
       "      <th id=\"T_55225_level0_row9\" class=\"row_heading level0 row9\" >31</th>\n",
       "      <td id=\"T_55225_row9_col0\" class=\"data row9 col0\" >Before the new update of 8.0 Oreo, it worked superbly, the battery back-up is also superb and there is not that much heating problem...But... After that update, my phone got heating up simply, battery is also draining unnecessarily... really very much disappointed after that update of 8.0 Oreo...😒😒☹️</td>\n",
       "      <td id=\"T_55225_row9_col1\" class=\"data row9 col1\" >Battery</td>\n",
       "    </tr>\n",
       "  </tbody>\n",
       "</table>\n"
      ],
      "text/plain": [
       "<pandas.io.formats.style.Styler at 0x2137af09240>"
      ]
     },
     "execution_count": 188,
     "metadata": {},
     "output_type": "execute_result"
    }
   ],
   "source": [
    "df.loc[df.Topic_Number.str.contains('5'),['review','Topic_Name']].head(10)\\\n",
    ".style.set_properties(subset=['review'], **{'width': '600px'})"
   ]
  }
 ],
 "metadata": {
  "kernelspec": {
   "display_name": "base",
   "language": "python",
   "name": "python3"
  },
  "language_info": {
   "codemirror_mode": {
    "name": "ipython",
    "version": 3
   },
   "file_extension": ".py",
   "mimetype": "text/x-python",
   "name": "python",
   "nbconvert_exporter": "python",
   "pygments_lexer": "ipython3",
   "version": "3.10.9"
  }
 },
 "nbformat": 4,
 "nbformat_minor": 2
}
